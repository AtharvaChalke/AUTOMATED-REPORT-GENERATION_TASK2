#run this block of code in in google colab
!pip install fpdf reportlab pandas matplotlib

#then run this code
import os
import pandas as pd
import matplotlib.pyplot as plt
from fpdf import FPDF
from google.colab import files
import zipfile


class ReportCardPDF(FPDF):   #using it as customize PDF generator for report cards
    def header(self):        #use to create header to page with specific scheme
        self.set_fill_color(57, 106, 177)    #its x-axis y-axis width
        self.set_text_color(255, 255, 255)
        self.set_font('Arial', 'B', 20)
        self.cell(0, 20, "Academic Year Report Card", ln=True, align='C', fill=True)
        self.ln(10)  #this is use to add space(blank space)

    def footer(self):     #set footer that is page no.
        self.set_y(-15)    #from below it will start
        self.set_font('Arial', 'I', 8)
        self.set_text_color(100, 100, 100)
        self.cell(0, 10, f'Page {self.page_no()}', 0, 0, 'C')  #Page No. each pdf page and align center

    def add_student_info(self, student):   #headers for student report table
        self.set_font('Arial', 'B', 14)
        self.cell(0, 10, f"Name: {student['Name']}  (Roll: {student['RollNo']})", ln=True) #attributes of table
        self.ln(5)

    def add_grades(self, student):#this is use to create grade table for each subjects for each student 
        subjects = ['Math', 'Science', 'History', 'Arts']

        self.set_fill_color(57, 106, 177)
        self.set_text_color(255, 255, 255)
        self.set_font('Arial', 'B', 14)
        self.cell(70, 10, "Subject", fill=True)
        self.cell(40, 10, "Marks", fill=True, align='C')
        self.cell(40, 10, "Grade", fill=True, align='C', ln=True)

        self.set_text_color(0, 0, 0)
        self.set_font('Arial', '', 13)

        valid_scores = [] #for avg calculation
        for subject in subjects:
            score = student.get(subject)
            if pd.notna(score):#error or invalid output handeling 
                grade = self.get_grade(score)
                valid_scores.append(score)
            else:
                score, grade = 'N/A', 'N/A'

            self.cell(70, 10, subject, border=1)
            self.cell(40, 10, str(score), border=1, align='C')
            self.cell(40, 10, grade, border=1, align='C', ln=True)

        #average formulation
        avg = sum(valid_scores) / len(valid_scores) if valid_scores else 'N/A'
        avg_grade = self.get_grade(avg) if valid_scores else 'N/A'

        self.set_font('Arial', 'B', 14)
        self.cell(70, 10, "Average", border=1)
        self.cell(40, 10, f"{avg:.1f}" if valid_scores else "N/A", border=1, align='C')
        self.cell(40, 10, avg_grade, border=1, align='C', ln=True)
        self.ln(10)

    def add_chart(self, student): #With this creates a bar chart showing student's performance
        subjects = ['Math', 'Science', 'History', 'Arts']
        #generate scores for available subject's
        scores = [(sub, student[sub]) for sub in subjects if pd.notna(student.get(sub))]

        if not scores:#To handel no grade generation case 
            self.add_page()
            self.set_font('Arial', 'B', 14)
            self.cell(0, 10, "No performance data available.", ln=True, align='C')
            return
        #Unpacking of scores of particular subject
        subs, vals = zip(*scores)
        plt.figure(figsize=(8, 4))#starts chart generation
        bars = plt.bar(subs, vals, color='steelblue')
        for bar in bars:#add value labels on bars
            plt.text(bar.get_x() + bar.get_width()/2, bar.get_height(), f'{bar.get_height()}', ha='center')

        plt.title("Performance by Subject")
        plt.ylim(0, 100)#limiting and scaling all charts
        plt.tight_layout()

        img_path = f"chart_{student['RollNo']}.png"
        plt.savefig(img_path)
        plt.close()

        self.add_page()
        self.image(img_path, x=10, w=190)
        os.remove(img_path)

    @staticmethod             
    def get_grade(score):     #use for giving grade to functions that is numeric score to letter conversion
        try:                  #check any val other than float or integer
            score = float(score)
        except (ValueError, TypeError):
            return 'Invalid'     #other than numeric found
        #This is chart use to convert marks to grade
        if score >= 90: return 'A+'
        if score >= 80: return 'A'
        if score >= 70: return 'B'
        if score >= 60: return 'C'
        if score >= 50: return 'D'
        return 'F'


def generate_summary_chart(students):#here it displays all student's avg and we can compare it
    labels = [f"{s['Name']} ({s['RollNo']})" for s in students]
    scores = [s['Average'] for s in students]

    plt.figure(figsize=(12, 6))
    bars = plt.bar(labels, scores, color='skyblue')
    for bar in bars:
        plt.text(bar.get_x() + bar.get_width() / 2, bar.get_height(), f'{bar.get_height():.1f}', ha='center')

    plt.title("Average Performance of Students")
    plt.xticks(rotation=45, ha='right')#used for readability
    plt.ylim(0, 100)
    plt.tight_layout()
    #save as a summary report file
    path = "Reports/summary_chart.png"
    plt.savefig(path)
    plt.close()
    return path


def compile_reports(file_path):#main function for report generation
    data = pd.read_excel(file_path)  #read and processes data
    os.makedirs('GradeReports', exist_ok=True)#make sure name is same

    students = data.to_dict('records')
    summary_data = []
    #generates individual reports
    for student in students:
        pdf = ReportCardPDF()
        pdf.add_page()
        pdf.add_student_info(student)
        pdf.add_grades(student)
        pdf.add_chart(student)

        avg = pd.Series([student.get(sub) for sub in ['Math', 'Science', 'History', 'Arts']]).dropna().astype(float).mean()
        summary_data.append({'Name': student['Name'], 'RollNo': student['RollNo'], 'Average': avg})
        #seperate reports
        report_path = f"Reports/{student['RollNo']}_report.pdf"
        pdf.output(report_path)

    summary_path = generate_summary_chart(summary_data)
    summary_pdf = FPDF()
    summary_pdf.add_page()
    summary_pdf.set_font('Arial', 'B', 16)
    summary_pdf.cell(0, 15, "Overall Summary", ln=True, align='C')
    summary_pdf.image(summary_path, x=10, w=190)
    summary_pdf.output("Reports/summary_report.pdf")
    os.remove(summary_path)
    #making zipfiles
    with zipfile.ZipFile('GradeReports.zip', 'w') as z:#make sure name is same
        for report in os.listdir('Reports'):
            if report.endswith('.pdf'):
                z.write(os.path.join('Reports', report), report)

    return 'GradeReports.zip'#make sure name is same


if __name__ == '__main__':
    print("Please upload the grade Excel file:")#taking grade.csv from user
    uploaded = files.upload()
    if uploaded:
        filename = next(iter(uploaded))
        result = compile_reports(filename)
        if os.path.exists(result):
            files.download(result)
            print("Download complete.")
